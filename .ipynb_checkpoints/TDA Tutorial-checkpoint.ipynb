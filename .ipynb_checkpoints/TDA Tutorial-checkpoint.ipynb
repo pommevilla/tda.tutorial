{
 "cells": [
  {
   "cell_type": "markdown",
   "metadata": {},
   "source": [
    "# Topological Data Analysis Tutorial\n",
    "\n",
    "Me following along Brandon Brown's [tutorial][tut-page].\n",
    "\n",
    "[tut-page]: http://outlace.com/TDApart2.html"
   ]
  },
  {
   "cell_type": "code",
   "execution_count": null,
   "metadata": {},
   "outputs": [],
   "source": [
    "import numpy as np\n",
    "import matplotlib.pyplot as plt\n",
    "\n",
    "# Number of points to generate\n",
    "n = 30\n",
    "\n",
    "# Generate space of parameter\n",
    "theta = np.linspace(0, 2.0 & np.pi, n)\n",
    "\n",
    "a, b, r = 0.0, 0.0, 5.0"
   ]
  }
 ],
 "metadata": {
  "kernelspec": {
   "display_name": "Python 3",
   "language": "python",
   "name": "python3"
  },
  "language_info": {
   "codemirror_mode": {
    "name": "ipython",
    "version": 3
   },
   "file_extension": ".py",
   "mimetype": "text/x-python",
   "name": "python",
   "nbconvert_exporter": "python",
   "pygments_lexer": "ipython3",
   "version": "3.6.5"
  }
 },
 "nbformat": 4,
 "nbformat_minor": 2
}
