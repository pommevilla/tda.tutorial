{
 "cells": [
  {
   "cell_type": "markdown",
   "metadata": {},
   "source": [
    "# Topological Data Analysis Tutorial\n",
    "\n",
    "Me following along Brandon Brown's [tutorial][tut-page].  The basics of TDA (set theory, metric spaces, simplicial complexes, etc.) were covered previously.  We will now construct a [Vietoris-Rips complex][vr-wiki] on a toy data set.\n",
    "\n",
    "[tut-page]: http://outlace.com/TDApart2.html\n",
    "[vr-wiki]: https://en.wikipedia.org/wiki/Vietoris%E2%80%93Rips_complex"
   ]
  },
  {
   "cell_type": "code",
   "execution_count": 3,
   "metadata": {},
   "outputs": [
    {
     "data": {
      "image/png": "[encoded data removed]",
      "text/plain": [
       "<Figure size 432x288 with 1 Axes>"
      ]
     },
     "metadata": {},
     "output_type": "display_data"
    }
   ],
   "source": [
    "import numpy as np\n",
    "import matplotlib.pyplot as plt\n",
    "\n",
    "# Number of points to generate\n",
    "n = 30\n",
    "\n",
    "# Generate space of parameter\n",
    "theta = np.linspace(0, 2.0 * np.pi, n)\n",
    "\n",
    "a, b, r = 0.0, 0.0, 5.0\n",
    "\n",
    "x = a + r * np.cos(theta)\n",
    "y = b + r * np.sin(theta)\n",
    "\n",
    "# Code to plot the circle for visualization\n",
    "plt.plot(x, y)\n",
    "plt.show()"
   ]
  },
  {
   "cell_type": "markdown",
   "metadata": {},
   "source": [
    "We will now sample from this ellipse."
   ]
  },
  {
   "cell_type": "code",
   "execution_count": 4,
   "metadata": {},
   "outputs": [
    {
     "data": {
      "image/png": "[encoded data removed]",
      "text/plain": [
       "<Figure size 432x288 with 1 Axes>"
      ]
     },
     "metadata": {},
     "output_type": "display_data"
    }
   ],
   "source": [
    "# The calls to np.random.uniform are to add some noise to the points.\n",
    "x2 = np.random.uniform(-0.75, 0.75, n) + x\n",
    "y2 = np.random.uniform(-0.75, 0.75, n) + y\n",
    "\n",
    "fig, ax = plt.subplots()\n",
    "ax.scatter(x2, y2)\n",
    "plt.show()"
   ]
  },
  {
   "cell_type": "markdown",
   "metadata": {},
   "source": [
    "As expected, the sampled points look circular, hinting at something going on with the data this was sampled from.  We would like our simplicial copmlex to capture this property.  \n",
    "\n",
    "The construction of the VR complex will follow the following steps:\n",
    "\n",
    "1. Define a distance function.  For this particular data set, we will use the Euclidean distance metric, $d(a, b) = \\sqrt{(a_1 - b_1)^2 + (a_2 - b_2)^2}$.\n",
    "2. Choose some $\\epsilon$ to build our simplicial complex.\n",
    "3. Create a collection of the 0-simplices of the VR complex.\n",
    "4. Calculate distance for each pair of points.  If the distance between the points is less than $\\epsilon$, add an edge between the points: this generates a 1-complex.\n",
    "5. Once we've discovered all 1-simplices, iterate through each vertex and attempt to build higher dimensional simplices incrementally.  In other words, we'll add all 2-simplices to our graph, than add all 3-simplices to that graph, etc.\n",
    "\n",
    "There are currently no polynomial-time algorithms for constructing a VR complex - there is a lot of work to be done in this area.  We will use the algorithm described in the paper [\"Fast Construction of the Vietoris-Rips Complex\"][vr-const-paper] by Afra Zomorodian:\n",
    "\n",
    "[vr-const-paper]: http://citeseerx.ist.psu.edu/viewdoc/summary?doi=10.1.1.210.426\n",
    "\n",
    "1. Construct the **neighborhood graph** of the point-set data.  The neighborhood graph is an undirected weighted graph $(G, w)$.  Here, $G = (V, E)$, where $V$ is a set of vertices, $E$ is the edge set, and $w: E \\to \\mathbb{R}$.  The edges are created by connecting points that are within $\\varepsilon$ of each other; that is \n",
    "\n",
    "$$E_{\\varepsilon} = \\{ \\{u, v\\} \\mid d(u, v) \\leq \\varepsilon, u \\neq v, u, v \\in V \\}.$$ \n",
    "\n",
    "The weight function $w$ in this case is the distance between the two   points (i.e., $w(\\{u, v\\}) = d(u, v)).\n",
    "    \n",
    "2. Perform a **Vietoris-Rips expansion** on the neighborhood graph from step 1.  Given a neighborhood graph $(G, w), the weight-filtered Vietoris-Rips (VR) complex $(R(G), w)$ is given by\n",
    "\n",
    "$$R(G) = V \\cup E \\cup \\{ \\sigma \\mid \\binom{\\sigma}{2} \\subseteq E\\}.$$\n",
    "\n",
    "For $\\sigma \\in R(G)$, \n",
    "\n",
    "$$\n",
    "w(\\sigma)=\n",
    "    \\begin{cases}\n",
    "        0, &\\sigma = \\{v\\}, v \\in V \\\\\n",
    "        w(\\{u, v\\}), &\\sigma = \\{u, v\\} \\in E \\\\\n",
    "        \\max_{\\tau \\subset \\sigma}{w(\\tau)}, &\\textit{otherwise}\n",
    "    \\end{cases}\n",
    "$$\n",
    "\n",
    "So, if the simplex is an 0-simplex (a vertex), then the weight of that simplex is 0.  If the simplex is a 1-simplex (an edge), then the weight is the distance (in this case, the Euclidean distance).  For higher dimensions, the weight is the weight of the longest edge in that simplex.\n",
    "\n",
    "Let's do a brief example on a smaller data set before we move on to the point cloud above."
   ]
  },
  {
   "cell_type": "code",
   "execution_count": 5,
   "metadata": {},
   "outputs": [
    {
     "data": {
      "image/png": "[encoded data removed]",
      "text/plain": [
       "<Figure size 432x288 with 1 Axes>"
      ]
     },
     "metadata": {},
     "output_type": "display_data"
    }
   ],
   "source": [
    "raw_data = np.array(\n",
    "        [[0, 2], [2, 2], [1, 0], [1.5, -3.0] ]\n",
    "    ) \n",
    "plt.axis([ -1,3 , -4,3 ])\n",
    "plt.scatter(raw_data[ :, 0], raw_data[ :, 1]) \n",
    "for i, txt in enumerate(raw_data):\n",
    "    plt.annotate(i, (raw_data[i][0] + 0.05, raw_data[i][1])) \n",
    "plt.show()"
   ]
  },
  {
   "cell_type": "markdown",
   "metadata": {},
   "source": [
    "Each vertex in our simplicial complex is labeled by its position in the `raw_data` list.  We'll now construct the neighborhood graph."
   ]
  },
  {
   "cell_type": "code",
   "execution_count": 38,
   "metadata": {},
   "outputs": [
    {
     "name": "stdout",
     "output_type": "stream",
     "text": [
      "Nodes: [0, 1, 2, 3]\n",
      "Edges: [{0, 1}, {0, 2}, {1, 2}, {2, 3}]\n",
      "Weights: [[0, 2.0], [1, 2.23606797749979], [2, 2.23606797749979], [3, 3.0413812651491097]]\n"
     ]
    }
   ],
   "source": [
    "nodes = [x for x in range(raw_data.shape[0])]\n",
    "edges = []\n",
    "weights = []\n",
    "eps = 3.1\n",
    "for i in range(raw_data.shape[0]):\n",
    "    for j in range(raw_data.shape[0] - i):\n",
    "        a = raw_data[i]\n",
    "        b = raw_data[j + i]\n",
    "        if (i != j + i):\n",
    "            dist = np.linalg.norm(a - b)\n",
    "            if dist <= eps:\n",
    "                edges.append({i, j + i})\n",
    "                weights.append([len(edges) - 1, dist])\n",
    "print(\"Nodes: {}\".format(nodes))\n",
    "print(\"Edges: {}\".format(edges))\n",
    "print(\"Weights: {}\".format(weights))"
   ]
  },
  {
   "cell_type": "markdown",
   "metadata": {},
   "source": [
    "Our completed neighborhood graph.  So there is an edge between vertices `0` and `1` with weight 2.0, an edge between vertices `0` and `2` with weight 2.236, etc.  We'll now start building up higher dimensional simplices.  We'll be using the following two functions."
   ]
  },
  {
   "cell_type": "code",
   "execution_count": 41,
   "metadata": {},
   "outputs": [],
   "source": [
    "def lower_nbrs(node_set, edge_set, node):\n",
    "    return {x for x in node_set if {x, node} in edge_set and node > x}\n",
    "\n",
    "def rips(nodes, edges, k):\n",
    "    # k is the max dimensions for the simplices we want to find.\n",
    "    \n",
    "    # Add all 0-simplices (vertices) to the VR complex\n",
    "    VR_complex = [{n} for n in nodes]\n",
    "    \n",
    "    # Add all 1-simplices (edges) to the VR complex\n",
    "    for edge in edges:\n",
    "        VR_complex.append(edge)\n",
    "        \n",
    "    # Add higher dimensional simplices.\n",
    "    for i in range(k):\n",
    "        for simplex in [x for x in VR_complex if len(x) == i + 2]:\n",
    "            nbrs = set.intersection(*[lower_nbrs(nodes, edges, z) for z in simplex])\n",
    "            for nbr in nbrs:\n",
    "                VR_complex.append(set.union(simplex, {nbr}))\n",
    "    return VR_complex\n",
    "    "
   ]
  },
  {
   "cell_type": "markdown",
   "metadata": {},
   "source": [
    "To test, we'll call it on `nodes` and `edges` to find all simplices up to 3 dimensions:"
   ]
  },
  {
   "cell_type": "code",
   "execution_count": 42,
   "metadata": {},
   "outputs": [
    {
     "data": {
      "text/plain": [
       "[{0}, {1}, {2}, {3}, {0, 1}, {0, 2}, {1, 2}, {2, 3}, {0, 1, 2}]"
      ]
     },
     "execution_count": 42,
     "metadata": {},
     "output_type": "execute_result"
    }
   ],
   "source": [
    "VR_complex = rips(nodes, edges, 3)\n",
    "VR_complex"
   ]
  },
  {
   "cell_type": "markdown",
   "metadata": {},
   "source": [
    "It works!  Our function successfully found the 2-simplex created by vertices `0`, `1`, and `2`.  A visualization:"
   ]
  },
  {
   "cell_type": "code",
   "execution_count": 44,
   "metadata": {},
   "outputs": [
    {
     "data": {
      "image/png": "[encoded data removed]",
      "text/plain": [
       "<Figure size 432x288 with 1 Axes>"
      ]
     },
     "metadata": {},
     "output_type": "display_data"
    }
   ],
   "source": [
    "plt.clf()\n",
    "plt.axis([-1,3, -4,3])\n",
    "plt.scatter(raw_data[ :, 0], raw_data[ :, 1])\n",
    "for i, txt in enumerate(raw_data):\n",
    "    plt.annotate(i, (raw_data[i][0] + 0.05, raw_data[i][1]))\n",
    "    \n",
    "# Adding edges.  VR_complex contains point sets of different sizes.  \n",
    "# Since we're only graphing edges, we check that the sets only have two\n",
    "# elements in them before drawing them.\n",
    "for edge in [member for member in VR_complex if len(member) == 2]:\n",
    "    pt1, pt2 = [raw_data[pt] for pt in [n for n in edge]]\n",
    "    line = plt.Polygon([pt1, pt2], closed = None, fill = None)\n",
    "    plt.gca().add_line(line)\n",
    "    \n",
    "# Add triangles.  Similar to above, we check to see if the member has 3 \n",
    "# elements in it before going further.\n",
    "for triangle in [member for member in VR_complex if len(member) == 3]:\n",
    "    pt1, pt2, pt3 = [raw_data[pt] for pt in [n for n in triangle]]\n",
    "    line = plt.Polygon([pt1, pt2, pt3], closed = False, color = 'gray',\n",
    "                      alpha = 0.4, fill = True, edgecolor = None)\n",
    "    plt.gca().add_line(line)\n",
    "plt.show()"
   ]
  },
  {
   "cell_type": "markdown",
   "metadata": {},
   "source": []
  }
 ],
 "metadata": {
  "kernelspec": {
   "display_name": "Python 3",
   "language": "python",
   "name": "python3"
  },
  "language_info": {
   "codemirror_mode": {
    "name": "ipython",
    "version": 3
   },
   "file_extension": ".py",
   "mimetype": "text/x-python",
   "name": "python",
   "nbconvert_exporter": "python",
   "pygments_lexer": "ipython3",
   "version": "3.6.5"
  }
 },
 "nbformat": 4,
 "nbformat_minor": 2
}
